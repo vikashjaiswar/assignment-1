{
 "cells": [
  {
   "cell_type": "code",
   "execution_count": 11,
   "metadata": {},
   "outputs": [],
   "source": [
    "import string\n",
    "from collections import Counter\n",
    "\n",
    "import matplotlib.pyplot as plt"
   ]
  },
  {
   "cell_type": "code",
   "execution_count": 31,
   "metadata": {},
   "outputs": [],
   "source": [
    "\n",
    "def get_tweets():\n",
    "    import GetOldTweets3 as got   # library used to scrape data from twitter without any other tools\n",
    "    tweetCriteria = got.manager.TweetCriteria().setQuerySearch('corona') \\\n",
    "        .setSince(\"2020-07-1\") \\\n",
    "        .setUntil(\"2020-07-30\") \\\n",
    "        .setMaxTweets(100)\n",
    "    # Creation of list that contains all tweets\n",
    "    tweets = got.manager.TweetManager.getTweets(tweetCriteria)\n",
    "    # Creating list of chosen tweet data\n",
    "    text_tweets = [[tweet.text] for tweet in tweets]\n",
    "    return text_tweets"
   ]
  },
  {
   "cell_type": "code",
   "execution_count": 32,
   "metadata": {},
   "outputs": [],
   "source": [
    "\n",
    "# reading text file\n",
    "text = \"\"\n",
    "text_tweets = get_tweets()\n",
    "\n",
    "length = len(text_tweets)\n",
    "\n",
    "for i in range(0, length):\n",
    "    text = text_tweets[i][0] + \" \" + text\n",
    "\n",
    "# converting to lowercase\n",
    "lower_case = text.lower()\n",
    "\n",
    "# Removing punctuations\n",
    "cleaned_text = lower_case.translate(str.maketrans('', '', string.punctuation))\n",
    "\n",
    "# splitting text into words\n",
    "tokenized_words = cleaned_text.split()"
   ]
  },
  {
   "cell_type": "code",
   "execution_count": 33,
   "metadata": {},
   "outputs": [
    {
     "data": {
      "text/plain": [
       "[['my mom says “conora” instead of corona '],\n",
       " ['Check out UNA CORONA PARA EL MEJOR PAPA T-SHIRT - FUNNY GIFT FOR FATHER DAY #GildanG200Unisex https://ebay.us/JTs52v via @eBay #camisetaloca - buy it now and get FREE shipping or visit our store to see big deals'],\n",
       " ['time fdp, corona fdp, quarentena fdp... PQP'],\n",
       " ['se não fosse o corona e o trabalho eu iria mesmo viu?'],\n",
       " ['Mirassol perdeu um time completo por conta do corona e mesmo assim eliminou o São Paulo kkkkkkkkkkkkkkkkkkkk'],\n",
       " ['Remember someone tweeted to watch what big companies do for corona to determine when it’s safe to go back to work or a normal routine..... Netflix just added many of our classics growing up so catch me outside in 2021 '],\n",
       " ['詳細な情報がないので何の役にも立っていませんし中途半端な情報が噂となり広がりますよね 迅速に詳細をお願いいたします '],\n",
       " ['eu não aguento mais viver com o medo diario da minha familia pegar corona'],\n",
       " ['sera q eu to com corona mesmo'],\n",
       " ['Aii amiga, eu não vejo a hora dessa vacina chegar e essa porcaria de Corona acabar'],\n",
       " ['Eu achando que o corona ia embora antes do meu aniversário chegar : '],\n",
       " ['Wäre schon irgendwie lustig wenn sich irgendwann rausstellt, dass Corona auch über Ellenbogen übertragen wird...'],\n",
       " ['Corona és tu ?'],\n",
       " ['输情歌，J SHEOL,COVER BY Mikev Beh channel welcome you during covid corona v... https://youtu.be/Ovc-SGhew_8 via @YouTube'],\n",
       " [\"Une fois sur 3 Je dirais un fois sur 7. Si, j'ai eu quelque chose qui ressemble au Corona, il y a 7 ans, je vais tester positif. Imagine si tu te faisais vacciné tous les ans. Pas pour rien, que seuls les journalistes peuvent poser des questions.\"],\n",
       " ['@realDonaldTrump Sir my opinion is simple, on live Tv, invite Dr lmmanuel to pick and administer the drugs in public glare to a Corona virus patient and let the whole world see the result. If her claims are real then all the lives in danger shld be saved globally #ProofDrImmanuel'],\n",
       " ['if this corona stuff gets any worse i may have to intervene...'],\n",
       " ['Corona aumentado por mim parava o futebol de novo'],\n",
       " ['OS CARA GANHA MAIS DE 200 MIL REAIS POR MÊS NESSE CARALHO E ME PERDE PRA UM TIME QUE PERDEU 18 JOGADORES POR CAUSA DO CORONA E FIZERAM UM CATADO COM JOGADORES SEMI AMADORES QUE TREINARAM 1 SEMANA JUNTOS E METERAM 3 NA PORRA DE UM TIME “GRANDE” VÃO SE FUDER'],\n",
       " ['na moral, são paulino é imune ao corona, Deus não castiga duas vezes não, que time fdp'],\n",
       " ['corona vai embora logo prfv, preciso voltar a ir nas competições, não aguento mais ficar sem elas'],\n",
       " ['Corona maldito '],\n",
       " ['Menyegerakan Zakat Mal di Tengah Pandemi Corona (Bag. 2) http://dlvr.it/RcdYfF'],\n",
       " ['corona vírus obrigada por me poupar 4 meses de sofrimento com futebol não entendi antes o propósito'],\n",
       " ['Cases still dey dey I don Even forget Corona Case sef..omo Life back by jah grace Ifb tho'],\n",
       " [\"Idk it was automatic. Looking at it, it's the tweet from ages ago saying the lab where corona was created has the same logo as the umbrella corporation\"],\n",
       " ['Wat mij verteld is door iemand uit België. Het laagte aantal corona gevallen is in Brussel, men verbaasd zich daarover waarom dat is. Wel, in Brussel wordt nog geen GGGGG uitgerold, 3x raden waarom...'],\n",
       " ['I stayed 3 x in Morro Jable and 1 x in El Cotillo...I could walk an surf the beaches there my whole life. But how is it there now with \"Corona\"?'],\n",
       " ['Hj ouvi de uma pessoa que acha arriscado tomar a vacina produzida na China... AMADOH FICA SÓ TU ENTÃO COM O CORONA que eu vou tomar a vacina '],\n",
       " ['Se o corona não me matar, pode ficar tranquilo que o SPFC mata.'],\n",
       " ['Acho que você já pode começar a organizar a que vai acontecer pós corona kkkkkkk'],\n",
       " ['meu deus tudo que eu quero é ver a virginia meu deus corona eu te odeio seu desgraçado'],\n",
       " ['#Saudi Arabia holds hajj this year with precautions to avoid #Corona the most important of which is the social spacing during the hajj #Hajj2020 This weather is the rafting around the Kaaba in Mecca Do you remember the photos of the raft before the #COVID19 virus spread '],\n",
       " [\"Day of Arafah ! Hajj ' Al Mabroor !! ALLAH bless Muslim Ummah With Love and peace and save us from This pandemic situation of Corona! Ameen #Hajj #الحج\"],\n",
       " ['Anjos ja aviso que devido ainda a situação do corona, iremos apenas vender as itabags a pronta entrega. Só mais pra frente que irei organizar form de encomenda bonitinho Nesse primeiro momento serão pequenos lotes de vendas. '],\n",
       " ['Corona vírus não pode me matar, pois eu já morri acreditando que São Paulo iria ganhar o estadual '],\n",
       " ['Triste pelo corona, triste por ter um presidente merda, triste por ficar em casa, triste pelo meu time sempre ser eliminado... resumindo: TRISTE'],\n",
       " [\"Louie Gohmert represents the first congressional district of Texas. He is a dumb no nothing. He denied the corona virus and never wore a mask. And now that he has it this guy said that he got it from wearing a mask. He didn't wear a mask on Capitol Hill and he berated his......\"],\n",
       " ['Gamau update suhu, kalo dicek takut suhunya tinggi malah dikira corona.'],\n",
       " ['O Mirassol desfalcado por corona vírus e o sao paulo ainda perde KKKKKKKKK'],\n",
       " [\"This is exactly the difference that every American should think of when they vote. Corona will end. We need a comeback. Joe's empty promises aren't something we will be able to endure come November. I think it will become even more clear that all they have are smears from lies.\"],\n",
       " ['El pueblo corona jaja'],\n",
       " ['What does that have to do with Corona Virus?'],\n",
       " ['Is insanity a symptom of corona virus?'],\n",
       " ['passa logo corona, quero disputar os campeonato com a rapaziada, ficar resenhando até de madrugada e dps ir jogar cedinho '],\n",
       " ['Mi hermano me estaba explicando como preparar una salsa y dijo \"la corona de fuego\" refiriendose a la llama de la hornalla, muy bíblico todo la verdad'],\n",
       " ['Caralho to numa gripe fudida com medo dessa porra ser corona '],\n",
       " ['são paulino não pega corona vírus pq deus não castiga duas vezes #SAOxMIR'],\n",
       " ['coronaおぬぬめ'],\n",
       " ['CORONA EU TE ODEIO SEU FDP'],\n",
       " ['Who knows, maybe the mud has the Corona XD'],\n",
       " ['fala que tá com corona'],\n",
       " ['Tédio no corona - 20 - cv - sim - baixa - não - não - não - Eva - escorpião - 05/11 - red - - sexta - 13 - Dia - - depende das pessoas - - 1,58 por aí - sim fav e mando'],\n",
       " ['#NobodyLikesTrump because he is an epic failure in his mishandling of the Corona virus...blood on his hands'],\n",
       " ['Amén. Recibidas con humildad y Fe y devuelvo bendiciones doblemente a uds '],\n",
       " [\"I agree that it's extremely perverse but let's wait & see when they've lost their businesses, jobs, homes or tenancies whether it's the political or Corona pestilence they blame for their downfalls.\"],\n",
       " ['if it wasn’t bc of corona we could’ve hangout heartBROKEN'],\n",
       " [\"Frances Boyle(biolab safety expert) claims he has seen the genetic sequencing and it's a chimeric version of SARS/HIV/corona.There are probably several versions as Winnepeg,Chapel Hill Carolina,Ft.deitrich,Wuhan virology,a kansas Lab are all involved.Iron is dumping/lack of 02 +.\"],\n",
       " ['me diz, quando essa quarentena acaba, eu vou matar o corona nem que seja na porrada'],\n",
       " ['For Mamata, illegal Bangladeshi immigrants come above migrant workers from Bengal. Her delayed approval of migrant worker’s travel amidst the COVID-19 crisis is another low for her already questionable handling of the corona outbreak in Bengal. #করোনায়ব্যর্থমমতা'],\n",
       " ['Corona menangis melihat ini.'],\n",
       " ['Finalmente marquei pra fazer minha sobrancelha q to desde março sem fazer, foi mal corona mas NÃO DÁ MAIS'],\n",
       " ['bro the more conversations I have about corona the more it feels like life ain’t real man I really hope that makes sense to someone other than me '],\n",
       " ['Eu quando o corona acabar '],\n",
       " [\"Viste la vuelta de Pneumopato? @IvaPDL guay corona'\"],\n",
       " ['Eu tambem, só queria que essa pandemia acabasse as coisas voltassem a normalidade . Maldito corona'],\n",
       " ['Sdd de uns amigo que eu só trombava nas rave. Caraio de corona vírus'],\n",
       " ['Ache a cura do corona e eu te digo se esperava ou não'],\n",
       " ['Stay The F...k at home Song https://youtu.be/CsHRvaYCJ7E via @YouTube #Corona'],\n",
       " ['With corona and now this I’m staying inside forever I’m too scared to leave my damn house '],\n",
       " ['#Entérate | El pleno del @senadomexicano tomó protesta a 4 nuevos embajadores de ratificados por unanimidad: María Carmen Oñate en #España, Carlos Félix Corona en #Serbia, @m_zamarripa en #Belice y Guillermo Puente en #Irán.'],\n",
       " ['Pelo amor de Cristo, o Corona já tá me dando falta de ar, eu sou cardíaca, pra que pênalti?'],\n",
       " ['minha tia me ligando corona filha da puta de vdd que raivaaaa. dava essa horinha quando eu tava por lá ficava eu e ela na cozinha cvsando de tudo e ajeitando coisa p almoço '],\n",
       " ['Stella hablé bocha ya jaja. La hoopy, te gusta la playa y los cítricos; estaría la corona pero te da vergüenza y te mantenes en una buena marca. Cansado de las cerveza, no querías perder la esperanza y buscaste lo más lejano al sabor de la cerveza. Aunque quieras salir de algo'],\n",
       " ['Benjaaaaa aposta aí, que se o corona vírus acabar, vc vai de Carmen Miranda !!'],\n",
       " ['eh foda cada um ter q bolar o seu SATISFEITO corona !!!'],\n",
       " ['Impact Holdings Co., Ltd. With Corona x DX Research Launched “UX test” service by utilizing 280,000 human resources infrastructure '],\n",
       " ['Nunca vou perdoar o corona por ter estragado todo os nossos planos de dates :((('],\n",
       " ['“Full face shield 3D lightweight” is completed! ♪ The lightest class in Japan, a smart appearance and a new sh ape idea goods such as infectious diseases! !! Prepare for the second wave of corona! '],\n",
       " ['Se vc tiver com corona eu te mato antes dele te matar'],\n",
       " ['Se saia corona '],\n",
       " ['vo te visita qnd o corona morre'],\n",
       " ['Riding the corona wave.... '],\n",
       " ['Corona got the wrong people'],\n",
       " ['größte KAFFEEFAHRT der Geschichte: Reiseveranstalter werben mit Corona-Leugnung und Verschwörungserzählungen um am kommenden Wochenende teils verfassungsfeindliche Gruppierungen aus EU-Ländern nach Berlin zu fahren. @DRVDE @Volksverpetzer #honkforhope'],\n",
       " ['Urlaub mit Corona: Das gilt aktuell für Dänemark Reisenden werden an der Grenze sowie während des Aufenthaltes in Dänemark stichprobenartig Tests angeboten, die die Verbreitung des Virus überwachen sollen. Die Teilnahme ist freiwillig. '],\n",
       " ['Cura do corona (Fase de teste) '],\n",
       " ['I heard smoking stops the Corona. Hahahaha'],\n",
       " ['Coronavirus News am Donnerstag: USA registrieren mehr als 150.000 Corona-Tote - DER SPIEGEL - Wissenschaft '],\n",
       " ['Corona virus menyukai ini.'],\n",
       " ['Treze Tílias deu 0 ativos, aí sim.... xô corona'],\n",
       " ['Time safado, parece q tá com corona tnc'],\n",
       " ['Its gone on Nov 04 2020. Explain Post SARS CORONA during SWINE CORONA MERS CORONA Obama Fauci Biden Protocol NO MASK NO SEQUESTER NO ICU No HCQ? How many deaths are they responsible for X doing nothing? Or is Wuhan Corona? Senator respond? Please. @SenateGOP @RandPaul'],\n",
       " ['Kenne das nur zu gut. Durch das lange Corona Zurückziehen, habe ich mich teilweise so eingeigelt, dass alles wieder sehr schwer fällt.'],\n",
       " ['Corona seu vagabundo, ah man q trist '],\n",
       " ['Almanya corona aşısını buldu herhalde ... şimdi de Almanya’ya kafayı takmış nasıl bir dünya lannn bu nasıl oldu da bütün her şey bize denk geldi '],\n",
       " [\"It's about priority. Nobody cares about bad UX if user can't login. People are starving for thousand years and it doesn't seem a BIG problem, but Corona apparently is.\"],\n",
       " ['ele só tá ajudando na pandemia, vc não vai morrer de corona ou ocupar leitos se for assassinado antes'],\n",
       " ['Are we going to see people after getting their 2nd Corona virus stimulus payment say: \"No!! No way!! You\\'re infringing on my right not to have money!!! I will not let this happen.\" '],\n",
       " ['eu vou matar o corona nem que seja na porrada']]"
      ]
     },
     "execution_count": 33,
     "metadata": {},
     "output_type": "execute_result"
    }
   ],
   "source": [
    "# Print texts\n",
    "text_tweets"
   ]
  },
  {
   "cell_type": "code",
   "execution_count": 34,
   "metadata": {},
   "outputs": [],
   "source": [
    "stop_words = [\"i\", \"me\", \"my\", \"myself\", \"we\", \"our\", \"ours\", \"ourselves\", \"you\", \"your\", \"yours\", \"yourself\",\n",
    "              \"yourselves\", \"he\", \"him\", \"his\", \"himself\", \"she\", \"her\", \"hers\", \"herself\", \"it\", \"its\", \"itself\",\n",
    "              \"they\", \"them\", \"their\", \"theirs\", \"themselves\", \"what\", \"which\", \"who\", \"whom\", \"this\", \"that\", \"these\",\n",
    "              \"those\", \"am\", \"is\", \"are\", \"was\", \"were\", \"be\", \"been\", \"being\", \"have\", \"has\", \"had\", \"having\", \"do\",\n",
    "              \"does\", \"did\", \"doing\", \"a\", \"an\", \"the\", \"and\", \"but\", \"if\", \"or\", \"because\", \"as\", \"until\", \"while\",\n",
    "              \"of\", \"at\", \"by\", \"for\", \"with\", \"about\", \"against\", \"between\", \"into\", \"through\", \"during\", \"before\",\n",
    "              \"after\", \"above\", \"below\", \"to\", \"from\", \"up\", \"down\", \"in\", \"out\", \"on\", \"off\", \"over\", \"under\", \"again\",\n",
    "              \"further\", \"then\", \"once\", \"here\", \"there\", \"when\", \"where\", \"why\", \"how\", \"all\", \"any\", \"both\", \"each\",\n",
    "              \"few\", \"more\", \"most\", \"other\", \"some\", \"such\", \"no\", \"nor\", \"not\", \"only\", \"own\", \"same\", \"so\", \"than\",\n",
    "              \"too\", \"very\", \"s\", \"t\", \"can\", \"will\", \"just\", \"don\", \"should\", \"now\"]\n",
    "\n",
    "# Removing stop words from the tokenized words list\n",
    "final_words = [word for word in tokenized_words if word not in stop_words]"
   ]
  },
  {
   "cell_type": "code",
   "execution_count": 35,
   "metadata": {},
   "outputs": [
    {
     "name": "stdout",
     "output_type": "stream",
     "text": [
      "Counter({' sad': 3, ' free': 1, ' happy': 1, ' lost': 1, ' adequate': 1, ' fearful': 1})\n"
     ]
    }
   ],
   "source": [
    "# Get emotions text\n",
    "emotion_list = []\n",
    "with open('emotions.txt', 'r') as file:\n",
    "    for line in file:\n",
    "        clear_line = line.replace('\\n', '').replace(',', '').replace(\"'\", '').strip()\n",
    "        word, emotion = clear_line.split(':')\n",
    "        if word in final_words:\n",
    "            emotion_list.append(emotion)\n",
    "\n",
    "w = Counter(emotion_list)\n",
    "print(w)\n",
    "\n"
   ]
  },
  {
   "cell_type": "markdown",
   "metadata": {},
   "source": [
    "# BEFORE COVID"
   ]
  },
  {
   "cell_type": "code",
   "execution_count": 17,
   "metadata": {},
   "outputs": [
    {
     "data": {
      "image/png": "[encoded data removed]",
      "text/plain": [
       "<Figure size 432x288 with 1 Axes>"
      ]
     },
     "metadata": {
      "needs_background": "light"
     },
     "output_type": "display_data"
    }
   ],
   "source": [
    "fig, ax1 = plt.subplots()\n",
    "ax1.bar(w.keys(), w.values())\n",
    "fig.autofmt_xdate()\n",
    "plt.savefig('graph.png')\n",
    "plt.show()"
   ]
  },
  {
   "cell_type": "markdown",
   "metadata": {},
   "source": [
    "# AFTER COVID"
   ]
  },
  {
   "cell_type": "code",
   "execution_count": 36,
   "metadata": {},
   "outputs": [
    {
     "data": {
      "image/png": "[encoded data removed]",
      "text/plain": [
       "<Figure size 432x288 with 1 Axes>"
      ]
     },
     "metadata": {
      "needs_background": "light"
     },
     "output_type": "display_data"
    }
   ],
   "source": [
    "fig, ax1 = plt.subplots()\n",
    "ax1.bar(w.keys(), w.values())\n",
    "fig.autofmt_xdate()\n",
    "plt.savefig('graph.png')\n",
    "plt.show()"
   ]
  },
  {
   "cell_type": "code",
   "execution_count": null,
   "metadata": {},
   "outputs": [],
   "source": []
  }
 ],
 "metadata": {
  "kernelspec": {
   "display_name": "Python 3",
   "language": "python",
   "name": "python3"
  },
  "language_info": {
   "codemirror_mode": {
    "name": "ipython",
    "version": 3
   },
   "file_extension": ".py",
   "mimetype": "text/x-python",
   "name": "python",
   "nbconvert_exporter": "python",
   "pygments_lexer": "ipython3",
   "version": "3.7.6"
  }
 },
 "nbformat": 4,
 "nbformat_minor": 2
}
